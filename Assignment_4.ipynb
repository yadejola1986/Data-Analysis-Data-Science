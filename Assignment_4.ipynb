{
 "cells": [
  {
   "cell_type": "markdown",
   "id": "d218afae",
   "metadata": {},
   "source": [
    "1. Create a program using maths and f strings that tells us how many days, weeks, months we have left if we live until 90 years old. It will take your current age as the input and output a message with our time left in this format; You have x days, y weeks and z months left. Where x, y and z are replaced with the actual calculated numbers. Your output should match the words in the example output precisely. You should round the result to the nearest whole number.\n",
    "\n",
    "\n",
    "2. Build an automated pizza order program Based on a user's order, work out their final bill. For small pizza, the fee is 15 dollars, for Medium Pizza, the fee is 20 dollars, for Large Pizza, the fee is 25 dollars, Pepperoni for small pizza, add extra 2 dollars, Pepperoni for medium or large pizza, add extra 3 dollars, and extra cheese for any size pizza, add extra 1 dollar. (Hint: Remember to write a code that will accept any kind of user input, for example, if a user types \"Yes\", it should be same as \"yes\" or \"YES\")\n",
    "\n",
    "3. Create a program that will allow a sales person to get a pay raise if they made a profit of 20,000 dollars and above and they made it in 5 months. \n",
    "\n",
    "4. Write a program that adds the digits in a two digit number, e.g, if the input was 35, then the output should be 3+5 =8"
   ]
  },
  {
   "cell_type": "code",
   "execution_count": 1,
   "id": "982be284",
   "metadata": {},
   "outputs": [
    {
     "name": "stdout",
     "output_type": "stream",
     "text": [
      "what is your current age38\n",
      "You have 18980 days, 2756 weeks, and 624 months left.\n"
     ]
    }
   ],
   "source": [
    "#Create a program using maths and f strings that tells us how many days, weeks, months days\n",
    "#step1\n",
    "current_age= int(input(\"what is your current age\"))\n",
    "\n",
    "#Step 2\n",
    "days_year= 365\n",
    "month_year= 12\n",
    "week_year=53\n",
    "life_expectancy= 90\n",
    "\n",
    "#step 3:Calculate the remaining years\n",
    "years_rem= life_expectancy- current_age\n",
    "    \n",
    "days_left= years_rem*days_year\n",
    "weeks_left= years_rem*week_year\n",
    "months_left= years_rem*month_year\n",
    "\n",
    "# Print the results\n",
    "print(f\"You have {days_left} days, {weeks_left} weeks, and {months_left} months left.\")\n",
    "\n",
    "\n"
   ]
  },
  {
   "cell_type": "code",
   "execution_count": 2,
   "id": "786556e2",
   "metadata": {},
   "outputs": [
    {
     "name": "stdout",
     "output_type": "stream",
     "text": [
      "What size of pizza do you want? small, medium, largelarge\n",
      "Do you want pepperoni, yes or nono\n",
      "Do you want extracheese, yes or nono\n",
      "Your final bill is: $28\n"
     ]
    }
   ],
   "source": [
    "\n",
    "#step1. Get input for the size of the pizza\n",
    "size= input(\"What size of pizza do you want? small, medium, large\")\n",
    "\n",
    "#size of the pizza and prices\n",
    "if size== \"small\":\n",
    "    bill=15\n",
    "    \n",
    "elif size== \"medium\":\n",
    "    bill=20\n",
    "    \n",
    "elif size== \"large\":\n",
    "    bill= 25\n",
    "    \n",
    "else:\n",
    "    print(\"Please choose either small, medium, or large.\")\n",
    "\n",
    "#step2 Get input user's order for Pepperoni\n",
    "pepperoni= input(\"Do you want pepperoni, yes or no\")\n",
    "\n",
    "if pepperoni==\"yes\":\n",
    "    if size== \"small\":\n",
    "        bill+=2\n",
    "        \n",
    "elif size== \"medium\" or size==\"large\":\n",
    "    bill+=3\n",
    "    \n",
    "#Get input for the user's order for extracheese\n",
    "extra_cheese= input(\"Do you want extracheese, yes or no\")\n",
    "\n",
    "if extra_cheese==\"yes\":\n",
    "    if size==\"small\" or size==\"medium\" or size== \"large\":\n",
    "        bill+=1\n",
    "        \n",
    "print(f\"Your final bill is: ${bill}\")"
   ]
  },
  {
   "cell_type": "code",
   "execution_count": 3,
   "id": "81ef9598",
   "metadata": {
    "scrolled": true
   },
   "outputs": [
    {
     "name": "stdout",
     "output_type": "stream",
     "text": [
      "Profit made in first month400\n",
      "Profit made in second month5000\n",
      "Profit made in third month65555\n",
      "Profit made in fourth month66666\n",
      "Profit made in fifth month4444\n",
      "You made a profit of $142065.00,You will receive a pay rise\n"
     ]
    }
   ],
   "source": [
    "#input the money made in 5 months\n",
    "\n",
    "first_month= float(input(\"Profit made in first month\"))\n",
    "second_month= float(input(\"Profit made in second month\"))\n",
    "third_month= float(input(\"Profit made in third month\"))\n",
    "fourth_month= float(input(\"Profit made in fourth month\"))\n",
    "fifth_month= float(input(\"Profit made in fifth month\"))\n",
    "                 \n",
    "#Total profit made in 5 months\n",
    "total_profit= first_month+second_month+third_month+fourth_month+fifth_month\n",
    "                 \n",
    "if total_profit >= 20000:\n",
    "                 print(f\"You made a profit of ${total_profit:.2f},You will receive a pay rise\")\n",
    "else:\n",
    "                 print(f\"You made a profit of ${total_profit:.2f}, You will not receive a pay rise\")\n",
    "    "
   ]
  },
  {
   "cell_type": "code",
   "execution_count": 4,
   "id": "665521d9",
   "metadata": {},
   "outputs": [
    {
     "name": "stdout",
     "output_type": "stream",
     "text": [
      "Enter first digit3\n",
      "Enter second digit5\n",
      "8\n"
     ]
    }
   ],
   "source": [
    "#Write a program that adds the digits in a two digit number, e.g, if the input are 3 and 5, then the output should be 3+5 =8\n",
    "number= int(input('Enter first digit'))\n",
    "number_1= int(input('Enter second digit'))\n",
    "\n",
    "print(number+number_1)"
   ]
  }
 ],
 "metadata": {
  "kernelspec": {
   "display_name": "Python 3 (ipykernel)",
   "language": "python",
   "name": "python3"
  },
  "language_info": {
   "codemirror_mode": {
    "name": "ipython",
    "version": 3
   },
   "file_extension": ".py",
   "mimetype": "text/x-python",
   "name": "python",
   "nbconvert_exporter": "python",
   "pygments_lexer": "ipython3",
   "version": "3.9.7"
  }
 },
 "nbformat": 4,
 "nbformat_minor": 5
}
