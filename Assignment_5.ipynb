{
 "cells": [
  {
   "cell_type": "markdown",
   "id": "0de4db36",
   "metadata": {},
   "source": [
    "1. You are going to write a program that calculates the average heights from a list of heights student_heights = [180, 124, 165, 173, 189, 169, 146]. The average height can be calculated by adding all the heights and dividing by the total no of heights. Please, round off to the nearest whole number. **DO NOT** use the sum and len function, use only the for loop to attempt this task.\n",
    "\n",
    "2. From a range of mumbers 1 to 40 inclusive, using for loop, find the mulitples of 4\n",
    "\n",
    "3. From a range of mumbers 1 to 40 inclusive, using for loop, find the factors of 4\n",
    "\n",
    "4. You are going to write a program that calculates the average scores from a list of student's scores maths student_scores = [80, 54, 65, 73, 89, 69, 46], English student's scores = [77, 80, 88, 77, 54, 67, 93]. Find the total score (Maths and English for each student) and then find their individual average score. Please, round off to the nearest whole number"
   ]
  },
  {
   "cell_type": "code",
   "execution_count": 8,
   "id": "61bea3ba",
   "metadata": {},
   "outputs": [
    {
     "name": "stdout",
     "output_type": "stream",
     "text": [
      "1x1= 1\n",
      "\n",
      "1x3= 3\n",
      "\n",
      "1x5= 5\n",
      "\n",
      "1x7= 7\n",
      "\n",
      "1x9= 9\n",
      "\n",
      "3x1= 3\n",
      "\n",
      "3x3= 9\n",
      "\n",
      "3x5= 15\n",
      "\n",
      "3x7= 21\n",
      "\n",
      "3x9= 27\n",
      "\n",
      "5x1= 5\n",
      "\n",
      "5x3= 15\n",
      "\n",
      "5x5= 25\n",
      "\n",
      "5x7= 35\n",
      "\n",
      "5x9= 45\n",
      "\n",
      "7x1= 7\n",
      "\n",
      "7x3= 21\n",
      "\n",
      "7x5= 35\n",
      "\n",
      "7x7= 49\n",
      "\n",
      "7x9= 63\n",
      "\n",
      "9x1= 9\n",
      "\n",
      "9x3= 27\n",
      "\n",
      "9x5= 45\n",
      "\n",
      "9x7= 63\n",
      "\n",
      "9x9= 81\n",
      "\n"
     ]
    }
   ],
   "source": [
    "num = range(1, 11)\n",
    "num_1= range (1, 11)\n",
    "\n",
    "for n in num:\n",
    "    if n % 2 != 0:\n",
    "        for n1 in num_1:\n",
    "            if n1 % 2!=0:\n",
    "                print(f'{n}x{n1}= {n*n1}')\n",
    "                print()\n",
    "        "
   ]
  },
  {
   "cell_type": "code",
   "execution_count": 16,
   "id": "bc6e480f",
   "metadata": {},
   "outputs": [
    {
     "name": "stdout",
     "output_type": "stream",
     "text": [
      "2x2= 4      2x4= 8      2x6= 12      2x8= 16      2x10= 20      4x2= 8      4x4= 16      4x6= 24      4x8= 32      4x10= 40      6x2= 12      6x4= 24      6x6= 36      6x8= 48      6x10= 60      8x2= 16      8x4= 32      8x6= 48      8x8= 64      8x10= 80      10x2= 20      10x4= 40      10x6= 60      10x8= 80      10x10= 100      "
     ]
    }
   ],
   "source": [
    "num = range(1, 11)\n",
    "num_1= range (1, 11)\n",
    "\n",
    "for n in num:\n",
    "    if n % 2 == 0:\n",
    "        for n1 in num_1:\n",
    "            if n1 % 2 ==0:\n",
    "                print(f'{n}x{n1}= {n*n1}', end=\"      \")"
   ]
  },
  {
   "cell_type": "code",
   "execution_count": 17,
   "id": "177beb82",
   "metadata": {},
   "outputs": [
    {
     "name": "stdout",
     "output_type": "stream",
     "text": [
      "1 is odd\n",
      "2 is even\n",
      "3 is odd\n",
      "4 is even\n",
      "5 is odd\n",
      "6 is even\n",
      "7 is odd\n",
      "8 is even\n",
      "9 is odd\n",
      "10 is even\n"
     ]
    }
   ],
   "source": [
    "for num in range(1, 11):\n",
    "    if num % 2 == 0:\n",
    "        print(f\"{num} is even\")\n",
    "    else:\n",
    "        print(f\"{num} is odd\")\n"
   ]
  },
  {
   "cell_type": "code",
   "execution_count": 2,
   "id": "8d5a1271",
   "metadata": {},
   "outputs": [
    {
     "name": "stdout",
     "output_type": "stream",
     "text": [
      "1 is odd number\n",
      "2 is even number\n",
      "3 is odd number\n",
      "4 is even number\n",
      "5 is odd number\n",
      "6 is even number\n",
      "7 is odd number\n",
      "8 is even number\n",
      "9 is odd number\n",
      "10 is even number\n"
     ]
    }
   ],
   "source": [
    "numbers=[1,2,3,4,5,6,7,8,9,10]\n",
    "for num in numbers:\n",
    "    if num% 2==0:\n",
    "        print(num, \"is even number\")\n",
    "    else:\n",
    "        print(num, \"is odd number\")"
   ]
  },
  {
   "cell_type": "code",
   "execution_count": 4,
   "id": "17d05902",
   "metadata": {},
   "outputs": [
    {
     "name": "stdout",
     "output_type": "stream",
     "text": [
      "10 : Ten\n",
      "20 : Twenty\n",
      "30 : Thirty\n",
      "40 : Forty\n"
     ]
    }
   ],
   "source": [
    "numbers = {10:\"Ten\", 20:\"Twenty\", 30:\"Thirty\",40:\"Forty\"}\n",
    "for num in numbers:\n",
    "   print (num,\":\",numbers[num])"
   ]
  },
  {
   "cell_type": "code",
   "execution_count": null,
   "id": "669e5d85",
   "metadata": {},
   "outputs": [],
   "source": []
  },
  {
   "cell_type": "code",
   "execution_count": null,
   "id": "7f1d4177",
   "metadata": {},
   "outputs": [],
   "source": []
  }
 ],
 "metadata": {
  "kernelspec": {
   "display_name": "Python 3 (ipykernel)",
   "language": "python",
   "name": "python3"
  },
  "language_info": {
   "codemirror_mode": {
    "name": "ipython",
    "version": 3
   },
   "file_extension": ".py",
   "mimetype": "text/x-python",
   "name": "python",
   "nbconvert_exporter": "python",
   "pygments_lexer": "ipython3",
   "version": "3.9.7"
  }
 },
 "nbformat": 4,
 "nbformat_minor": 5
}
