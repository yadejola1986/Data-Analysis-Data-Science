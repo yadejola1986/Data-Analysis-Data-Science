{
 "cells": [
  {
   "cell_type": "markdown",
   "id": "1bc1883e",
   "metadata": {},
   "source": [
    "1. Write a while loop that prints the numbers from 1 to 15, but skips the number 11. Use an if statement to check if the current number is 11, and if so, continue to the next iteration.\n",
    "\n",
    "2. Create a while loop that asks a user for their age, if a user enters a number that is less than 18, print 'you are a minor', if they enter 18 and above, print 'you are an adult'. Use an if else statement inside the loop\n",
    "\n",
    "3. Print a Fibonacci sequence of numbers up to the 10th term.\n",
    "\n",
    "4. Using a While loop, write a program that calculates the sum of even numbers from 1 to a given number 𝑛 n (inclusive).\n",
    "\n",
    "5. Using a while loop, write a program that calculates the Greatest Common Divisor (GCD) of two given integers using the Euclidean algorithm. The program should repeatedly apply the Euclidean algorithm until the GCD is found."
   ]
  },
  {
   "cell_type": "code",
   "execution_count": 1,
   "id": "4b837eb8",
   "metadata": {},
   "outputs": [
    {
     "name": "stdout",
     "output_type": "stream",
     "text": [
      "0\n",
      "1\n",
      "2\n",
      "3\n",
      "4\n",
      "5\n",
      "6\n",
      "7\n",
      "8\n",
      "9\n",
      "10\n",
      "12\n",
      "13\n",
      "14\n",
      "15\n"
     ]
    }
   ],
   "source": [
    "i=0\n",
    "while i <= 15:\n",
    "    if i == 11:\n",
    "        i += 1\n",
    "        continue\n",
    "    print(i)\n",
    "    i+= 1"
   ]
  },
  {
   "cell_type": "code",
   "execution_count": 12,
   "id": "7922b467",
   "metadata": {},
   "outputs": [
    {
     "name": "stdout",
     "output_type": "stream",
     "text": [
      "What is your age? 4\n",
      "You are a minor\n"
     ]
    }
   ],
   "source": [
    "age = int(input(\"What is your age? \"))\n",
    "while i <= 18:\n",
    "    if age < 18:\n",
    "        print(\"You are a minor\")\n",
    "    else:\n",
    "        print(\"You are an adult\")\n",
    "    break\n"
   ]
  },
  {
   "cell_type": "code",
   "execution_count": 8,
   "id": "b3c7cca8",
   "metadata": {},
   "outputs": [
    {
     "name": "stdout",
     "output_type": "stream",
     "text": [
      "Enter a number: 6\n",
      "The sum of even numbers from 1 to 6 is: 12\n"
     ]
    }
   ],
   "source": [
    "# Get the input number from the user\n",
    "n = int(input(\"Enter a number: \"))\n",
    "\n",
    "# Initialize variables\n",
    "sum_even = 0\n",
    "i = 1\n",
    "\n",
    "\n",
    "# Use while loop to iterate through numbers from 1 to n\n",
    "while i <= n:\n",
    "    # Check if the number is even\n",
    "    if i % 2 == 0:\n",
    "        sum_even += i\n",
    "    i += 1\n",
    "\n",
    "# Print the sum of even numbers\n",
    "print(\"The sum of even numbers from 1 to\", n, \"is:\", sum_even)\n"
   ]
  },
  {
   "cell_type": "code",
   "execution_count": 9,
   "id": "9f416785",
   "metadata": {
    "scrolled": true
   },
   "outputs": [
    {
     "name": "stdout",
     "output_type": "stream",
     "text": [
      "1 red\n",
      "2 orange\n",
      "3 yellow\n",
      "4 green\n"
     ]
    }
   ],
   "source": [
    "items = ['red', 'orange', 'yellow', 'green']\n",
    "number = 1\n",
    "for item in items:\n",
    "    # print numbered entries\n",
    "    print(number, item)\n",
    "    number = number + 1  # crucial added line"
   ]
  },
  {
   "cell_type": "code",
   "execution_count": 10,
   "id": "cf385c38",
   "metadata": {},
   "outputs": [
    {
     "name": "stdout",
     "output_type": "stream",
     "text": [
      "0 red\n",
      "1 orange\n",
      "2 yellow\n",
      "3 green\n"
     ]
    }
   ],
   "source": [
    "items = ['red', 'orange', 'yellow', 'green']\n",
    "number = 0\n",
    "for item in items:\n",
    "    print(number, item)\n",
    "    number += 1\n"
   ]
  },
  {
   "cell_type": "code",
   "execution_count": 11,
   "id": "e50dc3b7",
   "metadata": {},
   "outputs": [
    {
     "name": "stdout",
     "output_type": "stream",
     "text": [
      "Letter is p\n",
      "Letter is y\n",
      "Letter is t\n"
     ]
    }
   ],
   "source": [
    "for letter in 'python':\n",
    "    if letter=='h':\n",
    "        break\n",
    "    print(\"Letter is\", letter)"
   ]
  },
  {
   "cell_type": "code",
   "execution_count": null,
   "id": "743cf331",
   "metadata": {},
   "outputs": [],
   "source": []
  }
 ],
 "metadata": {
  "kernelspec": {
   "display_name": "Python 3 (ipykernel)",
   "language": "python",
   "name": "python3"
  },
  "language_info": {
   "codemirror_mode": {
    "name": "ipython",
    "version": 3
   },
   "file_extension": ".py",
   "mimetype": "text/x-python",
   "name": "python",
   "nbconvert_exporter": "python",
   "pygments_lexer": "ipython3",
   "version": "3.9.7"
  }
 },
 "nbformat": 4,
 "nbformat_minor": 5
}
