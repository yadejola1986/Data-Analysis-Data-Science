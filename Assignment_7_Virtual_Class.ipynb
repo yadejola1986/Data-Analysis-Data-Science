{
 "cells": [
  {
   "cell_type": "markdown",
   "id": "a1acbdfd",
   "metadata": {},
   "source": [
    "1. Counting Down from 10 to 1\n",
    "- Write a while loop that counts down from 10 to 1 and prints \"Liftoff!\" after the countdown.\n",
    "\n",
    "2. Calculating the Sum of First N Natural Numbers\n",
    "- Using a while loop, calculate and print the sum of the first N natural numbers, where N is a given positive integer.\n",
    "\n",
    "3. Finding the Factorial of a Number\n",
    "- Write a while loop to find the factorial of a given positive integer and print the result.\n",
    "\n",
    "4. Guessing Game: Finding a Secret Number\n",
    "- Implement a while loop for a guessing game where the user has to guess a secret number between 1 and 10. Provide feedback if the guess is too high or too low, and end the loop when the correct number is guessed."
   ]
  },
  {
   "cell_type": "code",
   "execution_count": 1,
   "id": "630d4b87",
   "metadata": {},
   "outputs": [
    {
     "name": "stdout",
     "output_type": "stream",
     "text": [
      "10\n",
      "9\n",
      "8\n",
      "7\n",
      "6\n",
      "5\n",
      "4\n",
      "3\n",
      "2\n",
      "1\n",
      "Liftoff!\n"
     ]
    }
   ],
   "source": [
    "count_down=10\n",
    "while count_down>0:\n",
    "    print(count_down)\n",
    "    count_down-=1\n",
    "print(\"Liftoff!\")"
   ]
  },
  {
   "cell_type": "code",
   "execution_count": 2,
   "id": "014ac774",
   "metadata": {},
   "outputs": [
    {
     "name": "stdout",
     "output_type": "stream",
     "text": [
      "Enter a natural number: 6\n",
      "The sum of the natural numbers 6 is: 21\n"
     ]
    }
   ],
   "source": [
    "# Get the input number from the user\n",
    "n = int(input(\"Enter a natural number: \"))\n",
    "numbers= 0\n",
    "i = 1\n",
    "\n",
    "while i <= n:\n",
    "    numbers+= i\n",
    "    i += 1\n",
    "print(\"The sum of the natural numbers\", n, \"is:\", numbers)\n"
   ]
  },
  {
   "cell_type": "code",
   "execution_count": 4,
   "id": "2712a822",
   "metadata": {},
   "outputs": [
    {
     "name": "stdout",
     "output_type": "stream",
     "text": [
      "Enter a positive integer: 5\n",
      "The factorial of 5 is: 120\n"
     ]
    }
   ],
   "source": [
    "# Input: A positive integer\n",
    "num = int(input(\"Enter a positive integer: \"))\n",
    "\n",
    "result = 1\n",
    "i = num\n",
    "while i > 0:\n",
    "    result *= i\n",
    "    i -= 1\n",
    "\n",
    "print(\"The factorial of\", num, 'is:', result)\n"
   ]
  },
  {
   "cell_type": "code",
   "execution_count": 5,
   "id": "2ded26dd",
   "metadata": {},
   "outputs": [
    {
     "name": "stdout",
     "output_type": "stream",
     "text": [
      "Hello Segun!\n"
     ]
    }
   ],
   "source": [
    "#Example 1:\n",
    "def greeting(name):\n",
    "    print('Hello ' + name +'!')\n",
    "greeting('Segun')"
   ]
  },
  {
   "cell_type": "code",
   "execution_count": 6,
   "id": "237fb25b",
   "metadata": {},
   "outputs": [
    {
     "name": "stdout",
     "output_type": "stream",
     "text": [
      "Hello Akin!\n"
     ]
    }
   ],
   "source": [
    "greeting(\"Akin\")"
   ]
  },
  {
   "cell_type": "code",
   "execution_count": 8,
   "id": "6da2635f",
   "metadata": {},
   "outputs": [
    {
     "name": "stdout",
     "output_type": "stream",
     "text": [
      "30\n"
     ]
    }
   ],
   "source": [
    "def add_numbers(num1,num2):\n",
    "    print(num1+num2)\n",
    "add_numbers(10, 20)"
   ]
  },
  {
   "cell_type": "code",
   "execution_count": 9,
   "id": "4f13b1dd",
   "metadata": {},
   "outputs": [
    {
     "name": "stdout",
     "output_type": "stream",
     "text": [
      "100\n"
     ]
    }
   ],
   "source": [
    "add_numbers(50, 50)"
   ]
  },
  {
   "cell_type": "code",
   "execution_count": 13,
   "id": "4238e765",
   "metadata": {},
   "outputs": [
    {
     "name": "stdout",
     "output_type": "stream",
     "text": [
      "25\n"
     ]
    }
   ],
   "source": [
    "def sub_num(num1, num2):\n",
    "    print(num1-num2)\n",
    "sub_num(60, 35)"
   ]
  },
  {
   "cell_type": "code",
   "execution_count": 10,
   "id": "87c79d8e",
   "metadata": {},
   "outputs": [
    {
     "data": {
      "text/plain": [
       "55"
      ]
     },
     "execution_count": 10,
     "metadata": {},
     "output_type": "execute_result"
    }
   ],
   "source": [
    "#create a function to add numbers \n",
    "def adding_num(numm1, numm2):\n",
    "    add_num = numm1 + numm2\n",
    "    return add_num\n",
    "adding_num(22, 33)"
   ]
  },
  {
   "cell_type": "code",
   "execution_count": 11,
   "id": "d656a103",
   "metadata": {},
   "outputs": [
    {
     "data": {
      "text/plain": [
       "60"
      ]
     },
     "execution_count": 11,
     "metadata": {},
     "output_type": "execute_result"
    }
   ],
   "source": [
    "def subtract_num(num1, num2):\n",
    "    sub_num= num1-num2\n",
    "    return sub_num\n",
    "subtract_num(100, 40)"
   ]
  },
  {
   "cell_type": "code",
   "execution_count": 14,
   "id": "2fce1201",
   "metadata": {},
   "outputs": [
    {
     "data": {
      "text/plain": [
       "3082"
      ]
     },
     "execution_count": 14,
     "metadata": {},
     "output_type": "execute_result"
    }
   ],
   "source": [
    "def multiply_num(num1, num2):\n",
    "    mult_num= num1*num2\n",
    "    return mult_num\n",
    "multiply_num(46, 67)"
   ]
  },
  {
   "cell_type": "code",
   "execution_count": 15,
   "id": "7c57d52d",
   "metadata": {},
   "outputs": [
    {
     "data": {
      "text/plain": [
       "400"
      ]
     },
     "execution_count": 15,
     "metadata": {},
     "output_type": "execute_result"
    }
   ],
   "source": [
    "def square(n):\n",
    "    sq= n*n\n",
    "    return sq\n",
    "square(20)"
   ]
  },
  {
   "cell_type": "code",
   "execution_count": 23,
   "id": "8bf4dab0",
   "metadata": {},
   "outputs": [
    {
     "name": "stdout",
     "output_type": "stream",
     "text": [
      "I am from Sweden\n",
      "I am from Norway\n"
     ]
    }
   ],
   "source": [
    "def function(country= \"Norway\"):\n",
    " print(\"I am from \" + country)\n",
    "function('Sweden')\n",
    "function()\n",
    "    "
   ]
  },
  {
   "cell_type": "code",
   "execution_count": 45,
   "id": "241ef7f3",
   "metadata": {},
   "outputs": [
    {
     "name": "stdout",
     "output_type": "stream",
     "text": [
      "[2, 4, 6, 8, 10]\n"
     ]
    }
   ],
   "source": [
    "def even_num(*nums):\n",
    "    even= [] #An empty list even is initialized to store the even numbers.\n",
    "    for num in nums: #The function iterates over each number in nums.\n",
    "        if num % 2 == 0: #For each number, it checks if the number is even\n",
    "            even.append(num)  #f the number is even, it appends the number to the even list.\n",
    "    return even\n",
    "result=even_num(1,2,3,4,5,6,7,8,9,10)\n",
    "print(result)"
   ]
  },
  {
   "cell_type": "code",
   "execution_count": 49,
   "id": "6d6aef30",
   "metadata": {},
   "outputs": [
    {
     "name": "stdout",
     "output_type": "stream",
     "text": [
      "[2, 4, 6, 8, 10, 12, 14, 16, 18, 20, 22, 24, 26, 28, 30, 32, 34, 36, 38]\n"
     ]
    }
   ],
   "source": [
    "even= []\n",
    "for num in range(1, 40):\n",
    "    if num % 2 == 0:\n",
    "        even.append(num)\n",
    "print(even)"
   ]
  },
  {
   "cell_type": "code",
   "execution_count": 56,
   "id": "8e5146a3",
   "metadata": {},
   "outputs": [
    {
     "data": {
      "text/plain": [
       "[1, 3, 5, 7, 9]"
      ]
     },
     "execution_count": 56,
     "metadata": {},
     "output_type": "execute_result"
    }
   ],
   "source": [
    "def odd_num(*nums):\n",
    "    odd=[]\n",
    "    for num in nums:\n",
    "        if num%2 !=0:\n",
    "            odd.append(num)\n",
    "    return odd\n",
    "odd_num(1,2,3,4,5,6,7,8,9,10)"
   ]
  },
  {
   "cell_type": "code",
   "execution_count": 57,
   "id": "604be2b1",
   "metadata": {},
   "outputs": [
    {
     "data": {
      "text/plain": [
       "[21, 23, 25, 27, 29]"
      ]
     },
     "execution_count": 57,
     "metadata": {},
     "output_type": "execute_result"
    }
   ],
   "source": [
    "odd_num(21,22,23,24,25,26,27,28, 29, 30)"
   ]
  },
  {
   "cell_type": "code",
   "execution_count": 68,
   "id": "30729bff",
   "metadata": {},
   "outputs": [
    {
     "data": {
      "text/plain": [
       "105"
      ]
     },
     "execution_count": 68,
     "metadata": {},
     "output_type": "execute_result"
    }
   ],
   "source": [
    "#create a function that will multiply all the numbers in a list together and return the value\n",
    "def multiplication_nums(*nums):\n",
    "    product = 1\n",
    "    for num in nums:\n",
    "        product *= num\n",
    "    return product\n",
    "multiplication_nums(1,3,5,7)"
   ]
  },
  {
   "cell_type": "code",
   "execution_count": 72,
   "id": "28d53f54",
   "metadata": {},
   "outputs": [
    {
     "data": {
      "text/plain": [
       "9.0"
      ]
     },
     "execution_count": 72,
     "metadata": {},
     "output_type": "execute_result"
    }
   ],
   "source": [
    "def square_root(nums):\n",
    "    square_r= nums**0.5\n",
    "    return square_r\n",
    "square_root(81)"
   ]
  },
  {
   "cell_type": "code",
   "execution_count": 78,
   "id": "ca002205",
   "metadata": {},
   "outputs": [
    {
     "name": "stdout",
     "output_type": "stream",
     "text": [
      "[1, 3, 5, 7, 9, 11, 13, 15, 17, 19, 21, 23, 25, 27, 29, 31, 33, 35, 37, 39, 41, 43, 45, 47, 49]\n"
     ]
    }
   ],
   "source": [
    "odd= []\n",
    "\n",
    "for num in range(1,50):\n",
    "    if num%2 !=0:\n",
    "        odd.append(num)        \n",
    "print(odd)"
   ]
  },
  {
   "cell_type": "code",
   "execution_count": 86,
   "id": "73cffe4b",
   "metadata": {},
   "outputs": [
    {
     "name": "stdout",
     "output_type": "stream",
     "text": [
      "The youngest child is Segun\n"
     ]
    }
   ],
   "source": [
    "def function(fname, lname):\n",
    "    print (\"The youngest child is\"+ fname)\n",
    "function(\" Segun\", \"lamide\")   "
   ]
  },
  {
   "cell_type": "code",
   "execution_count": 91,
   "id": "ceb40198",
   "metadata": {},
   "outputs": [
    {
     "name": "stdout",
     "output_type": "stream",
     "text": [
      "His name is Deola\n"
     ]
    }
   ],
   "source": [
    "def function(*kid):\n",
    "    print(\"His name is \"+ kid[2])\n",
    "function(\"Tola\", \"Sola\", \"Deola\")"
   ]
  },
  {
   "cell_type": "code",
   "execution_count": 93,
   "id": "19d5467a",
   "metadata": {},
   "outputs": [
    {
     "name": "stdout",
     "output_type": "stream",
     "text": [
      "His name is Folu\n"
     ]
    }
   ],
   "source": [
    "def function(**kid):\n",
    "    print(\"His name is \" + kid['lname'])\n",
    "function(fname=\"Tolu\", lname=\"Folu\")"
   ]
  },
  {
   "cell_type": "code",
   "execution_count": 95,
   "id": "ce4d6f20",
   "metadata": {},
   "outputs": [
    {
     "name": "stdout",
     "output_type": "stream",
     "text": [
      "[4, 5, 6, 7, 8, 9, 10, 11, 12, 13, 14, 15, 16, 17, 18, 19]\n"
     ]
    }
   ],
   "source": [
    "you=[]\n",
    "for num in range(1,20):\n",
    "    if num>=4:\n",
    "        you.append(num)\n",
    "print(you)"
   ]
  },
  {
   "cell_type": "code",
   "execution_count": null,
   "id": "0419f9b0",
   "metadata": {},
   "outputs": [],
   "source": []
  }
 ],
 "metadata": {
  "kernelspec": {
   "display_name": "Python 3 (ipykernel)",
   "language": "python",
   "name": "python3"
  },
  "language_info": {
   "codemirror_mode": {
    "name": "ipython",
    "version": 3
   },
   "file_extension": ".py",
   "mimetype": "text/x-python",
   "name": "python",
   "nbconvert_exporter": "python",
   "pygments_lexer": "ipython3",
   "version": "3.9.7"
  }
 },
 "nbformat": 4,
 "nbformat_minor": 5
}
